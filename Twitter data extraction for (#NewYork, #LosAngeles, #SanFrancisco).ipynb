{
 "cells": [
  {
   "cell_type": "markdown",
   "metadata": {},
   "source": [
    "# Task:\n",
    "1.       Get the last 10 day data for the specified hashtags mentioned below from Twitter using tweepy.\n",
    "2.       Save the data in an excel file with the following columns.\n",
    "         user_handle,If post is retweet,Retweet count,Favourites,Hashtag used\n",
    "\n",
    "# Task Criteria:\n",
    "\n",
    "1.       Hashtags needed - #NewYork, #LosAngeles, #SanFrancisco\n",
    "\n",
    "2.       Create a function to get the data from tweepy"
   ]
  },
  {
   "cell_type": "code",
   "execution_count": null,
   "metadata": {},
   "outputs": [],
   "source": [
    "import tweepy\n",
    "from tweepy import OAuthHandler\n",
    "import json\n",
    "import pandas as pd\n",
    "import csv \n"
   ]
  },
  {
   "cell_type": "markdown",
   "metadata": {},
   "source": [
    "Create connection to Twitter API"
   ]
  },
  {
   "cell_type": "code",
   "execution_count": null,
   "metadata": {},
   "outputs": [],
   "source": [
    "consumer_key = 'i0rdx89YM9KXSJAF96eBx53Ku'\n",
    "consumer_secret = 'JqL5VxQcW5k4uOYZQOjWBK100nIC2Dteghiu5pLBs7dxaPpXHw'\n",
    "access_token = '3190461942-XitTaqqdHlwlOnJVCVGSSLyPr9YvPUmusrKeexR'\n",
    "access_secret = 'RQpP1sFJUQ4LMtbyEEcqe2DN8PC9zSv0AFekej1VkpWxx'\n",
    "\n",
    "auth = OAuthHandler(consumer_key,consumer_secret)\n",
    "auth.set_access_token(access_token,access_secret)\n",
    "\n",
    "api = tweepy.API(auth,wait_on_rate_limit=True,wait_on_rate_limit_notify=True)\n",
    "\n",
    "if not(api):\n",
    "    print('Error connecting API')\n",
    "else:\n",
    "    print('Connected to twitter API!!!')"
   ]
  },
  {
   "cell_type": "code",
   "execution_count": null,
   "metadata": {},
   "outputs": [],
   "source": [
    "# Store tweets extracted into tweetFinal.txt file as.\n",
    "def process_or_store(tweet):\n",
    "    with open('tweetFinal.txt','a') as f:\n",
    "        json.dump(tweet,f)\n",
    "    return"
   ]
  },
  {
   "cell_type": "code",
   "execution_count": null,
   "metadata": {
    "scrolled": false
   },
   "outputs": [],
   "source": [
    "query = '#NewYork OR #LosAngeles OR #SanFrancisco'  # query to run\n",
    "output = [] \n",
    "\n",
    "# Load the tweets into a cursor and store it as a list \n",
    "for tweets in tweepy.Cursor(api.search,q=query,lang = 'en',since = '2018-05-04',until = '2018-05-14').items():\n",
    "    output.append(tweets._json) \n",
    "    \n",
    "process_or_store(output) # store output"
   ]
  },
  {
   "cell_type": "code",
   "execution_count": null,
   "metadata": {
    "scrolled": true
   },
   "outputs": [],
   "source": [
    "# Create a csv file to store 'user_handle','retweeted','retweets','favourites','hashtags_used' fields.\n",
    "\n",
    "csvFile = open('output.csv', 'a') # creating a csv file\n",
    "csvWriter = csv.writer(csvFile) # creating the writer object\n",
    "csvWriter.writerow(['user_handle','retweeted','retweets','favourites','hashtags_used']) #write the header\n",
    "\n",
    "with open('tweetFinal.txt','r') as f:\n",
    "    data = json.load(f)\n",
    "    \n",
    "    for tweet in data:\n",
    "        user_handle = tweet['user']['screen_name']\n",
    "        retweeted = tweet['retweeted']\n",
    "        retweets  = tweet['retweet_count']\n",
    "        favourites = tweet['favorite_count']\n",
    "        hashtags_used = []\n",
    "        for hashtags in tweet['entities']['hashtags']:\n",
    "            hashtags_used.append(hashtags['text'].encode('utf-8'))\n",
    "            \n",
    "        csvWriter.writerow([user_handle,retweeted,retweets,favourites,hashtags_used])\n",
    "\n",
    "csvFile.close()"
   ]
  }
 ],
 "metadata": {
  "kernelspec": {
   "display_name": "Python 3",
   "language": "python",
   "name": "python3"
  },
  "language_info": {
   "codemirror_mode": {
    "name": "ipython",
    "version": 3
   },
   "file_extension": ".py",
   "mimetype": "text/x-python",
   "name": "python",
   "nbconvert_exporter": "python",
   "pygments_lexer": "ipython3",
   "version": "3.6.4"
  }
 },
 "nbformat": 4,
 "nbformat_minor": 2
}
